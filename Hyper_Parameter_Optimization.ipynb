{
  "nbformat": 4,
  "nbformat_minor": 0,
  "metadata": {
    "colab": {
      "name": "Hyper_Parameter_Optimization.ipynb",
      "provenance": [],
      "collapsed_sections": [],
      "authorship_tag": "ABX9TyMC8zPwXDtUQnoO1YoznDki",
      "include_colab_link": true
    },
    "kernelspec": {
      "name": "python3",
      "display_name": "Python 3"
    }
  },
  "cells": [
    {
      "cell_type": "markdown",
      "metadata": {
        "id": "view-in-github",
        "colab_type": "text"
      },
      "source": [
        "<a href=\"https://colab.research.google.com/github/mcfatbeard57/Machine-Learning-Models/blob/master/Hyper_Parameter_Optimization.ipynb\" target=\"_parent\"><img src=\"https://colab.research.google.com/assets/colab-badge.svg\" alt=\"Open In Colab\"/></a>"
      ]
    },
    {
      "cell_type": "markdown",
      "metadata": {
        "id": "P61-aME16Oo5"
      },
      "source": [
        " Hyper Parameter Optimization"
      ]
    },
    {
      "cell_type": "markdown",
      "metadata": {
        "id": "qxGNKPLB6UyM"
      },
      "source": [
        "**All Techniques Of Hyper Parameter Optimization**\r\n",
        "\r\n",
        "GridSearchCV\r\n",
        "\r\n",
        "RandomizedSearchCV\r\n",
        "\r\n",
        "Bayesian Optimization -Automate Hyperparameter Tuning (Hyperopt)\r\n",
        "\r\n",
        "Sequential Model Based Optimization(Tuning a scikit-learn estimator with skopt)\r\n",
        "\r\n",
        "Optuna- Automate Hyperparameter Tuning\r\n",
        "\r\n",
        "Genetic Algorithms (TPOT Classifier)\r\n",
        "\r\n",
        "*References*\r\n",
        "\r\n",
        "https://github.com/fmfn/BayesianOptimization\r\n",
        "\r\n",
        "https://github.com/hyperopt/hyperopt\r\n",
        "\r\n",
        "https://www.jeremyjordan.me/hyperparameter-tuning/\r\n",
        "\r\n",
        "https://optuna.org/\r\n",
        "\r\n",
        "https://towardsdatascience.com/hyperparameters-optimization-526348bb8e2d (By Pier Paolo Ippolito )\r\n",
        "\r\n",
        "https://scikit-optimize.github.io/stable/auto_examples/hyperparameter-optimization.html"
      ]
    },
    {
      "cell_type": "code",
      "metadata": {
        "id": "kaShisc2505J"
      },
      "source": [
        ""
      ],
      "execution_count": null,
      "outputs": []
    }
  ]
}